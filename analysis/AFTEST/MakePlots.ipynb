{
 "cells": [
  {
   "cell_type": "code",
   "execution_count": 1,
   "id": "411de7f4-9e0c-4f32-b1dc-9425229fb062",
   "metadata": {},
   "outputs": [
    {
     "name": "stdout",
     "output_type": "stream",
     "text": [
      "Welcome to JupyROOT 6.28/00\n"
     ]
    },
    {
     "name": "stderr",
     "output_type": "stream",
     "text": [
      "Error in <TFile::TFile>: file /home/dalfonso-cern/JULY_exp/JULY_exp/DASKlogs/histoOUTname_test_RemoteCluster.root does not exist\n"
     ]
    },
    {
     "ename": "OSError",
     "evalue": "Failed to open file JULY_exp/DASKlogs/histoOUTname_test_RemoteCluster.root",
     "output_type": "error",
     "traceback": [
      "\u001b[0;31m---------------------------------------------------------------------------\u001b[0m",
      "\u001b[0;31mOSError\u001b[0m                                   Traceback (most recent call last)",
      "Cell \u001b[0;32mIn[1], line 15\u001b[0m\n\u001b[1;32m     12\u001b[0m orange \u001b[38;5;241m=\u001b[39m (\u001b[38;5;241m255\u001b[39m, \u001b[38;5;241m204\u001b[39m, \u001b[38;5;241m153\u001b[39m)\n\u001b[1;32m     14\u001b[0m inFileName \u001b[38;5;241m=\u001b[39m \u001b[38;5;124m\"\u001b[39m\u001b[38;5;124mJULY_exp/DASKlogs/histoOUTname_test_RemoteCluster.root\u001b[39m\u001b[38;5;124m\"\u001b[39m\n\u001b[0;32m---> 15\u001b[0m inFile \u001b[38;5;241m=\u001b[39m \u001b[43mROOT\u001b[49m\u001b[38;5;241;43m.\u001b[39;49m\u001b[43mTFile\u001b[49m\u001b[38;5;241;43m.\u001b[39;49m\u001b[43mOpen\u001b[49m\u001b[43m(\u001b[49m\u001b[43minFileName\u001b[49m\u001b[43m \u001b[49m\u001b[43m,\u001b[49m\u001b[38;5;124;43m\"\u001b[39;49m\u001b[38;5;124;43mREAD\u001b[39;49m\u001b[38;5;124;43m\"\u001b[39;49m\u001b[43m)\u001b[49m\n\u001b[1;32m     16\u001b[0m h1 \u001b[38;5;241m=\u001b[39m inFile\u001b[38;5;241m.\u001b[39mGet(histoName\u001b[38;5;241m+\u001b[39myear\u001b[38;5;241m+\u001b[39m\u001b[38;5;124m\"\u001b[39m\u001b[38;5;124m_1017\u001b[39m\u001b[38;5;124m\"\u001b[39m)\n\u001b[1;32m     17\u001b[0m h2 \u001b[38;5;241m=\u001b[39m inFile\u001b[38;5;241m.\u001b[39mGet(histoName\u001b[38;5;241m+\u001b[39myear\u001b[38;5;241m+\u001b[39m\u001b[38;5;124m\"\u001b[39m\u001b[38;5;124m_1010\u001b[39m\u001b[38;5;124m\"\u001b[39m)\n",
      "File \u001b[0;32m/depot/cms/kernels/python3/lib/python3.10/site-packages/ROOT/_pythonization/_tfile.py:103\u001b[0m, in \u001b[0;36m_TFileOpen\u001b[0;34m(klass, *args)\u001b[0m\n\u001b[1;32m    100\u001b[0m f \u001b[38;5;241m=\u001b[39m klass\u001b[38;5;241m.\u001b[39m_OriginalOpen(\u001b[38;5;241m*\u001b[39margs)\n\u001b[1;32m    101\u001b[0m \u001b[38;5;28;01mif\u001b[39;00m f \u001b[38;5;241m==\u001b[39m bind_object(\u001b[38;5;241m0\u001b[39m, klass):\n\u001b[1;32m    102\u001b[0m     \u001b[38;5;66;03m# args[0] can be either a string or a TFileOpenHandle\u001b[39;00m\n\u001b[0;32m--> 103\u001b[0m     \u001b[38;5;28;01mraise\u001b[39;00m \u001b[38;5;167;01mOSError\u001b[39;00m(\u001b[38;5;124m'\u001b[39m\u001b[38;5;124mFailed to open file \u001b[39m\u001b[38;5;132;01m{}\u001b[39;00m\u001b[38;5;124m'\u001b[39m\u001b[38;5;241m.\u001b[39mformat(\u001b[38;5;28mstr\u001b[39m(args[\u001b[38;5;241m0\u001b[39m])))\n\u001b[1;32m    104\u001b[0m \u001b[38;5;28;01mreturn\u001b[39;00m f\n",
      "\u001b[0;31mOSError\u001b[0m: Failed to open file JULY_exp/DASKlogs/histoOUTname_test_RemoteCluster.root"
     ]
    }
   ],
   "source": [
    "import ROOT\n",
    "import os\n",
    "import math\n",
    "\n",
    "ROOT.gStyle.SetOptStat(0)\n",
    "#ROOT.gROOT.SetBatch()\n",
    "\n",
    "year = '2018'\n",
    "histoName='HCandMass_'\n",
    "redDark = (191, 34, 41)\n",
    "redLight = (255,82,82)\n",
    "orange = (255, 204, 153)\n",
    "\n",
    "inFileName = \"JULY_exp/DASKlogs/histoOUTname_test_RemoteCluster.root\"\n",
    "inFile = ROOT.TFile.Open(inFileName ,\"READ\")\n",
    "h1 = inFile.Get(histoName+year+\"_1017\")\n",
    "h2 = inFile.Get(histoName+year+\"_1010\")\n",
    "'''\n",
    "h3 = inFile.Get(histoName+year+\"_10\")\n",
    "h4 = inFile.Get(histoName+year+\"_11\")\n",
    "h5 = inFile.Get(histoName+year+\"_12\")\n",
    "h6 = inFile.Get(histoName+year+\"_13\")\n",
    "h7 = inFile.Get(histoName+year+\"_14\")\n",
    "\n",
    "h8 = inFile.Get(histoName+year+\"_-62\")\n",
    "h9 = inFile.Get(histoName+year+\"_-63\")\n",
    "h10 = inFile.Get(histoName+year+\"_-64\")\n",
    "\n",
    "if h3: hGjets = h3.Clone()\n",
    "if h3: hGjets.Add(h4)\n",
    "if h3: hGjets.Add(h5)\n",
    "if h3: hGjets.Add(h6)\n",
    "if h3: hGjets.Add(h7)\n",
    "'''\n",
    "'''\n",
    "if h8: hData = h8.Clone()\n",
    "if h9: hData.Add(h9)\n",
    "if h10: hData.Add(h10)\n",
    "if hData: hData.SetMarkerStyle(20)\n",
    "if hData: hData.SetMarkerSize(1.2)\n",
    "if hData: hData.SetMarkerColor(ROOT.kBlack)\n",
    "if hData: hData.SetLineColor(ROOT.kBlack)\n",
    "if hData: hData.SetLineWidth(2)\n",
    "'''\n",
    "\n",
    "#for h, color in zip([h1,h2,hGjets],[redDark,redLight,orange]):\n",
    "for h, color in zip([h1,h2],[redDark,redLight]):\n",
    "    if h:\n",
    "        h.Scale(38)\n",
    "        h.SetLineWidth(3)\n",
    "        h.SetLineColor(ROOT.TColor.GetColor(*color))\n",
    "        h.SetFillColor(ROOT.TColor.GetColor(*color))\n",
    "\n",
    "stack = ROOT.THStack(\"stack\",\"\")\n",
    "#for h in [hGjets,h2,h1]:\n",
    "for h in [h2,h1]:    \n",
    "    stack.Add(h)\n",
    "\n",
    "canv = ROOT.TCanvas(\"stackcanvas\",\"Stack canvas\",800,800)\n",
    "canv.SetLogy(1)\n",
    "stack.Draw(\"HIST\")\n",
    "#hData.Draw(\"p e same\")\n",
    "#hData.GetXaxis().SetTitle(\"m_{H}^{ #rho #gamma } [GeV]\")\n",
    "\n",
    "legend = ROOT.TLegend(0.63, 0.6, 0.80, 0.88)\n",
    "legend.SetTextFont(42)\n",
    "legend.SetFillStyle(0)\n",
    "legend.SetBorderSize(0)\n",
    "legend.SetTextSize(0.04)\n",
    "legend.SetTextAlign(32)\n",
    "#legend.AddEntry(hData, \"Data\" ,\"lep\")\n",
    "#legend.AddEntry(hGjets, \"#gamma+jets\" , \"f\")\n",
    "legend.AddEntry(h1, \"qqH(#gamma#phi)\" , \"f\")\n",
    "legend.AddEntry(h2, \"ggH(#gamma#phi)\" , \"f\")\n",
    "legend.Draw()\n",
    "\n",
    "\n",
    "canv.Draw()"
   ]
  },
  {
   "cell_type": "code",
   "execution_count": null,
   "id": "8ad7b981-cd13-47c4-9897-6c010e02e2c9",
   "metadata": {},
   "outputs": [],
   "source": []
  },
  {
   "cell_type": "code",
   "execution_count": null,
   "id": "973bfed9-ebbf-46a5-b3dd-4bde743dbc92",
   "metadata": {},
   "outputs": [],
   "source": []
  }
 ],
 "metadata": {
  "kernelspec": {
   "display_name": "Python3 kernel (default)",
   "language": "python",
   "name": "python3"
  },
  "language_info": {
   "codemirror_mode": {
    "name": "ipython",
    "version": 3
   },
   "file_extension": ".py",
   "mimetype": "text/x-python",
   "name": "python",
   "nbconvert_exporter": "python",
   "pygments_lexer": "ipython3",
   "version": "3.10.10"
  }
 },
 "nbformat": 4,
 "nbformat_minor": 5
}
